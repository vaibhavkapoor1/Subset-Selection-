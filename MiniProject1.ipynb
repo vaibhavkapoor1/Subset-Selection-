{
  "nbformat": 4,
  "nbformat_minor": 0,
  "metadata": {
    "colab": {
      "provenance": [],
      "authorship_tag": "ABX9TyN9boSA6PO3WkTcIF0ZZyLo",
      "include_colab_link": true
    },
    "kernelspec": {
      "name": "python3",
      "display_name": "Python 3"
    },
    "language_info": {
      "name": "python"
    }
  },
  "cells": [
    {
      "cell_type": "markdown",
      "metadata": {
        "id": "view-in-github",
        "colab_type": "text"
      },
      "source": [
        "<a href=\"https://colab.research.google.com/github/vaibhavkapoor1/Subset-Selection-/blob/main/MiniProject1.ipynb\" target=\"_parent\"><img src=\"https://colab.research.google.com/assets/colab-badge.svg\" alt=\"Open In Colab\"/></a>"
      ]
    },
    {
      "cell_type": "markdown",
      "source": [
        "## **Problem Set 1**"
      ],
      "metadata": {
        "id": "F1NgC0uUkjJ9"
      }
    },
    {
      "cell_type": "code",
      "source": [
        "import random as r\n",
        "A=set([-12, -3, -6, 7, 2, -2, 6, 3, 9, -7, -5, -8, 1, 11, -9, -4])\n",
        "C=set()\n",
        "v=1000\n",
        "for i in range(v):\n",
        "  B=r.sample(A,5)\n",
        "  B.sort()\n",
        "  if (sum(B)==0):\n",
        "    C.add(tuple(B))\n",
        "for r in C:\n",
        "  print(r)"
      ],
      "metadata": {
        "colab": {
          "base_uri": "https://localhost:8080/"
        },
        "id": "xWRjG1hXlVSw",
        "outputId": "6d8cd455-fb2d-4d93-ac43-3ff931ea2c1b"
      },
      "execution_count": 34,
      "outputs": [
        {
          "output_type": "stream",
          "name": "stdout",
          "text": [
            "(-12, -3, 2, 6, 7)\n",
            "(-7, -4, -3, 3, 11)\n",
            "(-8, -7, -3, 7, 11)\n",
            "(-9, -2, 1, 3, 7)\n",
            "(-7, -4, 2, 3, 6)\n",
            "(-12, -3, -2, 6, 11)\n",
            "(-9, -2, 2, 3, 6)\n",
            "(-8, -6, -2, 7, 9)\n",
            "(-9, -3, 1, 2, 9)\n",
            "(-8, -3, -2, 6, 7)\n",
            "(-9, -6, -3, 7, 11)\n",
            "(-7, -4, -2, 2, 11)\n",
            "(-12, -2, 2, 3, 9)\n",
            "(-9, -7, -2, 7, 11)\n",
            "(-8, -4, -2, 3, 11)\n",
            "(-6, -4, -2, 3, 9)\n",
            "(-9, -5, -2, 7, 9)\n",
            "(-12, -7, 3, 7, 9)\n",
            "(-12, -5, 2, 6, 9)\n",
            "(-6, -3, -2, 2, 9)\n",
            "(-9, -6, 1, 3, 11)\n",
            "(-5, -4, -3, 3, 9)\n",
            "(-6, -4, -2, 1, 11)\n",
            "(-12, -8, 2, 7, 11)\n",
            "(-7, -5, -3, 6, 9)\n",
            "(-6, -5, -2, 6, 7)\n",
            "(-8, -6, 2, 3, 9)\n"
          ]
        },
        {
          "output_type": "stream",
          "name": "stderr",
          "text": [
            "<ipython-input-34-531be5843853>:6: DeprecationWarning: Sampling from a set deprecated\n",
            "since Python 3.9 and will be removed in a subsequent version.\n",
            "  B=r.sample(A,5)\n"
          ]
        }
      ]
    },
    {
      "cell_type": "markdown",
      "source": [
        "## **Problem Set 2**"
      ],
      "metadata": {
        "id": "P0by_n3A0vpJ"
      }
    },
    {
      "cell_type": "code",
      "source": [
        "import random as r\n",
        "A=set([-12, -3, -6, 7, 2, -2, 6, 3, 9, -7, -5, -8, 1, 11, -9, -4])\n",
        "C=set()\n",
        "v=1000\n",
        "lb=3\n",
        "ub=6\n",
        "for i in range(v):\n",
        "  size=r.randint(lb,ub)\n",
        "  B=r.sample(A,size)\n",
        "  B.sort()\n",
        "  if (sum(B)==0):\n",
        "    C.add(tuple(B))\n",
        "for r in C:\n",
        "  print(r)"
      ],
      "metadata": {
        "colab": {
          "base_uri": "https://localhost:8080/"
        },
        "id": "X5GK98rezOb4",
        "outputId": "5bd24634-da05-45fc-e810-3a88611b6e27"
      },
      "execution_count": 35,
      "outputs": [
        {
          "output_type": "stream",
          "name": "stdout",
          "text": [
            "(-3, -2, 2, 3)\n",
            "(-9, -8, -3, 9, 11)\n",
            "(-8, -4, -3, 6, 9)\n",
            "(-9, -2, 1, 3, 7)\n",
            "(-12, -5, 1, 7, 9)\n",
            "(-12, 3, 9)\n",
            "(-6, -4, 1, 3, 6)\n",
            "(-6, -3, -2, 2, 3, 6)\n",
            "(-9, -5, 3, 11)\n",
            "(-12, 1, 2, 3, 6)\n",
            "(-12, 1, 11)\n",
            "(-12, -3, 1, 3, 11)\n",
            "(-7, -2, 1, 2, 6)\n",
            "(-7, -3, -2, 3, 9)\n",
            "(-5, -2, 1, 6)\n",
            "(-9, -3, 1, 11)\n",
            "(-8, 2, 6)\n",
            "(-6, -5, 2, 3, 6)\n",
            "(-9, -2, 11)\n",
            "(-4, -2, 6)\n",
            "(-8, -4, 2, 3, 7)\n",
            "(-12, -7, 3, 7, 9)\n",
            "(-12, -4, -2, 1, 6, 11)\n",
            "(-12, -6, -2, 2, 7, 11)\n",
            "(-12, -4, 3, 6, 7)\n",
            "(-9, 3, 6)\n",
            "(-8, -6, -4, 2, 7, 9)\n"
          ]
        },
        {
          "output_type": "stream",
          "name": "stderr",
          "text": [
            "<ipython-input-35-541901a7883a>:9: DeprecationWarning: Sampling from a set deprecated\n",
            "since Python 3.9 and will be removed in a subsequent version.\n",
            "  B=r.sample(A,size)\n"
          ]
        }
      ]
    },
    {
      "cell_type": "code",
      "source": [],
      "metadata": {
        "id": "IB1vlNZo1pFc"
      },
      "execution_count": null,
      "outputs": []
    }
  ]
}